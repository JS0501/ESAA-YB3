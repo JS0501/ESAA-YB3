{
  "nbformat": 4,
  "nbformat_minor": 0,
  "metadata": {
    "colab": {
      "provenance": [],
      "authorship_tag": "ABX9TyO0ymLryFUmH0esh93N78I9",
      "include_colab_link": true
    },
    "kernelspec": {
      "name": "python3",
      "display_name": "Python 3"
    },
    "language_info": {
      "name": "python"
    }
  },
  "cells": [
    {
      "cell_type": "markdown",
      "metadata": {
        "id": "view-in-github",
        "colab_type": "text"
      },
      "source": [
        "<a href=\"https://colab.research.google.com/github/JS0501/ESAA-YB3/blob/main/%EB%AF%B8%EB%8B%88(1)_1%2610_%EB%AF%B8%EC%99%84%EC%84%B1.ipynb\" target=\"_parent\"><img src=\"https://colab.research.google.com/assets/colab-badge.svg\" alt=\"Open In Colab\"/></a>"
      ]
    },
    {
      "cell_type": "code",
      "execution_count": null,
      "metadata": {
        "colab": {
          "base_uri": "https://localhost:8080/"
        },
        "id": "dGLH0UcziUkv",
        "outputId": "739290b8-10ef-4837-de76-436da7b83691"
      },
      "outputs": [
        {
          "output_type": "stream",
          "name": "stdout",
          "text": [
            "Mounted at /content/drive\n"
          ]
        }
      ],
      "source": [
        "import pandas as pd\n",
        "import lightgbm as lgb\n",
        "import seaborn as sns\n",
        "import matplotlib.pyplot as plt\n",
        "%matplotlib inline\n",
        "\n",
        "from google.colab import drive\n",
        "drive.mount('/content/drive')\n",
        "\n",
        "# 데이터 불러오기\n",
        "train = pd.read_csv('/content/drive/MyDrive/movies_train.csv')\n",
        "test = pd.read_csv('/content/drive/MyDrive/movies_test.csv')\n",
        "submission = pd.read_csv('/content/drive/MyDrive/submission.csv')"
      ]
    },
    {
      "cell_type": "markdown",
      "source": [
        "## **데이터 전처리**\n",
        "\n",
        "*   fillna 함수로 결측치 채우기\n",
        "*   inplace = True 로 저장\n",
        "\n"
      ],
      "metadata": {
        "id": "W5HbPEOyi_40"
      }
    },
    {
      "cell_type": "code",
      "source": [
        "train['dir_prev_bfnum'].fillna(0, inplace=True)"
      ],
      "metadata": {
        "colab": {
          "base_uri": "https://localhost:8080/"
        },
        "id": "DiVYXzsnib3R",
        "outputId": "25382358-3856-416d-e8e0-718d29686309"
      },
      "execution_count": null,
      "outputs": [
        {
          "output_type": "stream",
          "name": "stderr",
          "text": [
            "<ipython-input-2-10ebe2d7cfda>:1: FutureWarning: A value is trying to be set on a copy of a DataFrame or Series through chained assignment using an inplace method.\n",
            "The behavior will change in pandas 3.0. This inplace method will never work because the intermediate object on which we are setting values always behaves as a copy.\n",
            "\n",
            "For example, when doing 'df[col].method(value, inplace=True)', try using 'df.method({col: value}, inplace=True)' or df[col] = df[col].method(value) instead, to perform the operation inplace on the original object.\n",
            "\n",
            "\n",
            "  train['dir_prev_bfnum'].fillna(0, inplace=True)\n"
          ]
        }
      ]
    },
    {
      "cell_type": "code",
      "source": [
        "train.head()"
      ],
      "metadata": {
        "colab": {
          "base_uri": "https://localhost:8080/",
          "height": 275
        },
        "id": "7zYI2479S7l3",
        "outputId": "fb88903c-a2e3-403e-c970-a7cecdaf6324"
      },
      "execution_count": null,
      "outputs": [
        {
          "output_type": "execute_result",
          "data": {
            "text/plain": [
              "       title   distributor genre release_time  time screening_rat director  \\\n",
              "0     개들의 전쟁      롯데엔터테인먼트    액션   2012-11-22    96      청소년 관람불가      조병옥   \n",
              "1       내부자들        (주)쇼박스   느와르   2015-11-19   130      청소년 관람불가      우민호   \n",
              "2  은밀하게 위대하게        (주)쇼박스    액션   2013-06-05   123       15세 관람가      장철수   \n",
              "3   나는 공무원이다        (주)NEW   코미디   2012-07-12   101        전체 관람가      구자홍   \n",
              "4       불량남녀  쇼박스(주)미디어플렉스   코미디   2010-11-04   108       15세 관람가      신근호   \n",
              "\n",
              "   dir_prev_bfnum  dir_prev_num  num_staff  num_actor  box_off_num  \n",
              "0            0.00             0         91          2        23398  \n",
              "1      1161602.50             2        387          3      7072501  \n",
              "2       220775.25             4        343          4      6959083  \n",
              "3        23894.00             2         20          6       217866  \n",
              "4            1.00             1        251          2       483387  "
            ],
            "text/html": [
              "\n",
              "  <div id=\"df-7a5bab2c-f5f4-49d9-841d-177f10b66365\" class=\"colab-df-container\">\n",
              "    <div>\n",
              "<style scoped>\n",
              "    .dataframe tbody tr th:only-of-type {\n",
              "        vertical-align: middle;\n",
              "    }\n",
              "\n",
              "    .dataframe tbody tr th {\n",
              "        vertical-align: top;\n",
              "    }\n",
              "\n",
              "    .dataframe thead th {\n",
              "        text-align: right;\n",
              "    }\n",
              "</style>\n",
              "<table border=\"1\" class=\"dataframe\">\n",
              "  <thead>\n",
              "    <tr style=\"text-align: right;\">\n",
              "      <th></th>\n",
              "      <th>title</th>\n",
              "      <th>distributor</th>\n",
              "      <th>genre</th>\n",
              "      <th>release_time</th>\n",
              "      <th>time</th>\n",
              "      <th>screening_rat</th>\n",
              "      <th>director</th>\n",
              "      <th>dir_prev_bfnum</th>\n",
              "      <th>dir_prev_num</th>\n",
              "      <th>num_staff</th>\n",
              "      <th>num_actor</th>\n",
              "      <th>box_off_num</th>\n",
              "    </tr>\n",
              "  </thead>\n",
              "  <tbody>\n",
              "    <tr>\n",
              "      <th>0</th>\n",
              "      <td>개들의 전쟁</td>\n",
              "      <td>롯데엔터테인먼트</td>\n",
              "      <td>액션</td>\n",
              "      <td>2012-11-22</td>\n",
              "      <td>96</td>\n",
              "      <td>청소년 관람불가</td>\n",
              "      <td>조병옥</td>\n",
              "      <td>0.00</td>\n",
              "      <td>0</td>\n",
              "      <td>91</td>\n",
              "      <td>2</td>\n",
              "      <td>23398</td>\n",
              "    </tr>\n",
              "    <tr>\n",
              "      <th>1</th>\n",
              "      <td>내부자들</td>\n",
              "      <td>(주)쇼박스</td>\n",
              "      <td>느와르</td>\n",
              "      <td>2015-11-19</td>\n",
              "      <td>130</td>\n",
              "      <td>청소년 관람불가</td>\n",
              "      <td>우민호</td>\n",
              "      <td>1161602.50</td>\n",
              "      <td>2</td>\n",
              "      <td>387</td>\n",
              "      <td>3</td>\n",
              "      <td>7072501</td>\n",
              "    </tr>\n",
              "    <tr>\n",
              "      <th>2</th>\n",
              "      <td>은밀하게 위대하게</td>\n",
              "      <td>(주)쇼박스</td>\n",
              "      <td>액션</td>\n",
              "      <td>2013-06-05</td>\n",
              "      <td>123</td>\n",
              "      <td>15세 관람가</td>\n",
              "      <td>장철수</td>\n",
              "      <td>220775.25</td>\n",
              "      <td>4</td>\n",
              "      <td>343</td>\n",
              "      <td>4</td>\n",
              "      <td>6959083</td>\n",
              "    </tr>\n",
              "    <tr>\n",
              "      <th>3</th>\n",
              "      <td>나는 공무원이다</td>\n",
              "      <td>(주)NEW</td>\n",
              "      <td>코미디</td>\n",
              "      <td>2012-07-12</td>\n",
              "      <td>101</td>\n",
              "      <td>전체 관람가</td>\n",
              "      <td>구자홍</td>\n",
              "      <td>23894.00</td>\n",
              "      <td>2</td>\n",
              "      <td>20</td>\n",
              "      <td>6</td>\n",
              "      <td>217866</td>\n",
              "    </tr>\n",
              "    <tr>\n",
              "      <th>4</th>\n",
              "      <td>불량남녀</td>\n",
              "      <td>쇼박스(주)미디어플렉스</td>\n",
              "      <td>코미디</td>\n",
              "      <td>2010-11-04</td>\n",
              "      <td>108</td>\n",
              "      <td>15세 관람가</td>\n",
              "      <td>신근호</td>\n",
              "      <td>1.00</td>\n",
              "      <td>1</td>\n",
              "      <td>251</td>\n",
              "      <td>2</td>\n",
              "      <td>483387</td>\n",
              "    </tr>\n",
              "  </tbody>\n",
              "</table>\n",
              "</div>\n",
              "    <div class=\"colab-df-buttons\">\n",
              "\n",
              "  <div class=\"colab-df-container\">\n",
              "    <button class=\"colab-df-convert\" onclick=\"convertToInteractive('df-7a5bab2c-f5f4-49d9-841d-177f10b66365')\"\n",
              "            title=\"Convert this dataframe to an interactive table.\"\n",
              "            style=\"display:none;\">\n",
              "\n",
              "  <svg xmlns=\"http://www.w3.org/2000/svg\" height=\"24px\" viewBox=\"0 -960 960 960\">\n",
              "    <path d=\"M120-120v-720h720v720H120Zm60-500h600v-160H180v160Zm220 220h160v-160H400v160Zm0 220h160v-160H400v160ZM180-400h160v-160H180v160Zm440 0h160v-160H620v160ZM180-180h160v-160H180v160Zm440 0h160v-160H620v160Z\"/>\n",
              "  </svg>\n",
              "    </button>\n",
              "\n",
              "  <style>\n",
              "    .colab-df-container {\n",
              "      display:flex;\n",
              "      gap: 12px;\n",
              "    }\n",
              "\n",
              "    .colab-df-convert {\n",
              "      background-color: #E8F0FE;\n",
              "      border: none;\n",
              "      border-radius: 50%;\n",
              "      cursor: pointer;\n",
              "      display: none;\n",
              "      fill: #1967D2;\n",
              "      height: 32px;\n",
              "      padding: 0 0 0 0;\n",
              "      width: 32px;\n",
              "    }\n",
              "\n",
              "    .colab-df-convert:hover {\n",
              "      background-color: #E2EBFA;\n",
              "      box-shadow: 0px 1px 2px rgba(60, 64, 67, 0.3), 0px 1px 3px 1px rgba(60, 64, 67, 0.15);\n",
              "      fill: #174EA6;\n",
              "    }\n",
              "\n",
              "    .colab-df-buttons div {\n",
              "      margin-bottom: 4px;\n",
              "    }\n",
              "\n",
              "    [theme=dark] .colab-df-convert {\n",
              "      background-color: #3B4455;\n",
              "      fill: #D2E3FC;\n",
              "    }\n",
              "\n",
              "    [theme=dark] .colab-df-convert:hover {\n",
              "      background-color: #434B5C;\n",
              "      box-shadow: 0px 1px 3px 1px rgba(0, 0, 0, 0.15);\n",
              "      filter: drop-shadow(0px 1px 2px rgba(0, 0, 0, 0.3));\n",
              "      fill: #FFFFFF;\n",
              "    }\n",
              "  </style>\n",
              "\n",
              "    <script>\n",
              "      const buttonEl =\n",
              "        document.querySelector('#df-7a5bab2c-f5f4-49d9-841d-177f10b66365 button.colab-df-convert');\n",
              "      buttonEl.style.display =\n",
              "        google.colab.kernel.accessAllowed ? 'block' : 'none';\n",
              "\n",
              "      async function convertToInteractive(key) {\n",
              "        const element = document.querySelector('#df-7a5bab2c-f5f4-49d9-841d-177f10b66365');\n",
              "        const dataTable =\n",
              "          await google.colab.kernel.invokeFunction('convertToInteractive',\n",
              "                                                    [key], {});\n",
              "        if (!dataTable) return;\n",
              "\n",
              "        const docLinkHtml = 'Like what you see? Visit the ' +\n",
              "          '<a target=\"_blank\" href=https://colab.research.google.com/notebooks/data_table.ipynb>data table notebook</a>'\n",
              "          + ' to learn more about interactive tables.';\n",
              "        element.innerHTML = '';\n",
              "        dataTable['output_type'] = 'display_data';\n",
              "        await google.colab.output.renderOutput(dataTable, element);\n",
              "        const docLink = document.createElement('div');\n",
              "        docLink.innerHTML = docLinkHtml;\n",
              "        element.appendChild(docLink);\n",
              "      }\n",
              "    </script>\n",
              "  </div>\n",
              "\n",
              "\n",
              "<div id=\"df-51f2a078-05c5-4500-a089-58abd8550c72\">\n",
              "  <button class=\"colab-df-quickchart\" onclick=\"quickchart('df-51f2a078-05c5-4500-a089-58abd8550c72')\"\n",
              "            title=\"Suggest charts\"\n",
              "            style=\"display:none;\">\n",
              "\n",
              "<svg xmlns=\"http://www.w3.org/2000/svg\" height=\"24px\"viewBox=\"0 0 24 24\"\n",
              "     width=\"24px\">\n",
              "    <g>\n",
              "        <path d=\"M19 3H5c-1.1 0-2 .9-2 2v14c0 1.1.9 2 2 2h14c1.1 0 2-.9 2-2V5c0-1.1-.9-2-2-2zM9 17H7v-7h2v7zm4 0h-2V7h2v10zm4 0h-2v-4h2v4z\"/>\n",
              "    </g>\n",
              "</svg>\n",
              "  </button>\n",
              "\n",
              "<style>\n",
              "  .colab-df-quickchart {\n",
              "      --bg-color: #E8F0FE;\n",
              "      --fill-color: #1967D2;\n",
              "      --hover-bg-color: #E2EBFA;\n",
              "      --hover-fill-color: #174EA6;\n",
              "      --disabled-fill-color: #AAA;\n",
              "      --disabled-bg-color: #DDD;\n",
              "  }\n",
              "\n",
              "  [theme=dark] .colab-df-quickchart {\n",
              "      --bg-color: #3B4455;\n",
              "      --fill-color: #D2E3FC;\n",
              "      --hover-bg-color: #434B5C;\n",
              "      --hover-fill-color: #FFFFFF;\n",
              "      --disabled-bg-color: #3B4455;\n",
              "      --disabled-fill-color: #666;\n",
              "  }\n",
              "\n",
              "  .colab-df-quickchart {\n",
              "    background-color: var(--bg-color);\n",
              "    border: none;\n",
              "    border-radius: 50%;\n",
              "    cursor: pointer;\n",
              "    display: none;\n",
              "    fill: var(--fill-color);\n",
              "    height: 32px;\n",
              "    padding: 0;\n",
              "    width: 32px;\n",
              "  }\n",
              "\n",
              "  .colab-df-quickchart:hover {\n",
              "    background-color: var(--hover-bg-color);\n",
              "    box-shadow: 0 1px 2px rgba(60, 64, 67, 0.3), 0 1px 3px 1px rgba(60, 64, 67, 0.15);\n",
              "    fill: var(--button-hover-fill-color);\n",
              "  }\n",
              "\n",
              "  .colab-df-quickchart-complete:disabled,\n",
              "  .colab-df-quickchart-complete:disabled:hover {\n",
              "    background-color: var(--disabled-bg-color);\n",
              "    fill: var(--disabled-fill-color);\n",
              "    box-shadow: none;\n",
              "  }\n",
              "\n",
              "  .colab-df-spinner {\n",
              "    border: 2px solid var(--fill-color);\n",
              "    border-color: transparent;\n",
              "    border-bottom-color: var(--fill-color);\n",
              "    animation:\n",
              "      spin 1s steps(1) infinite;\n",
              "  }\n",
              "\n",
              "  @keyframes spin {\n",
              "    0% {\n",
              "      border-color: transparent;\n",
              "      border-bottom-color: var(--fill-color);\n",
              "      border-left-color: var(--fill-color);\n",
              "    }\n",
              "    20% {\n",
              "      border-color: transparent;\n",
              "      border-left-color: var(--fill-color);\n",
              "      border-top-color: var(--fill-color);\n",
              "    }\n",
              "    30% {\n",
              "      border-color: transparent;\n",
              "      border-left-color: var(--fill-color);\n",
              "      border-top-color: var(--fill-color);\n",
              "      border-right-color: var(--fill-color);\n",
              "    }\n",
              "    40% {\n",
              "      border-color: transparent;\n",
              "      border-right-color: var(--fill-color);\n",
              "      border-top-color: var(--fill-color);\n",
              "    }\n",
              "    60% {\n",
              "      border-color: transparent;\n",
              "      border-right-color: var(--fill-color);\n",
              "    }\n",
              "    80% {\n",
              "      border-color: transparent;\n",
              "      border-right-color: var(--fill-color);\n",
              "      border-bottom-color: var(--fill-color);\n",
              "    }\n",
              "    90% {\n",
              "      border-color: transparent;\n",
              "      border-bottom-color: var(--fill-color);\n",
              "    }\n",
              "  }\n",
              "</style>\n",
              "\n",
              "  <script>\n",
              "    async function quickchart(key) {\n",
              "      const quickchartButtonEl =\n",
              "        document.querySelector('#' + key + ' button');\n",
              "      quickchartButtonEl.disabled = true;  // To prevent multiple clicks.\n",
              "      quickchartButtonEl.classList.add('colab-df-spinner');\n",
              "      try {\n",
              "        const charts = await google.colab.kernel.invokeFunction(\n",
              "            'suggestCharts', [key], {});\n",
              "      } catch (error) {\n",
              "        console.error('Error during call to suggestCharts:', error);\n",
              "      }\n",
              "      quickchartButtonEl.classList.remove('colab-df-spinner');\n",
              "      quickchartButtonEl.classList.add('colab-df-quickchart-complete');\n",
              "    }\n",
              "    (() => {\n",
              "      let quickchartButtonEl =\n",
              "        document.querySelector('#df-51f2a078-05c5-4500-a089-58abd8550c72 button');\n",
              "      quickchartButtonEl.style.display =\n",
              "        google.colab.kernel.accessAllowed ? 'block' : 'none';\n",
              "    })();\n",
              "  </script>\n",
              "</div>\n",
              "\n",
              "    </div>\n",
              "  </div>\n"
            ],
            "application/vnd.google.colaboratory.intrinsic+json": {
              "type": "dataframe",
              "variable_name": "train",
              "summary": "{\n  \"name\": \"train\",\n  \"rows\": 600,\n  \"fields\": [\n    {\n      \"column\": \"title\",\n      \"properties\": {\n        \"dtype\": \"string\",\n        \"num_unique_values\": 600,\n        \"samples\": [\n          \"\\ucc28\\ud615\\uc0ac\",\n          \"\\uafc8\\ubcf4\\ub2e4 \\ud574\\ubabd\",\n          \"\\ub3c4\\ucfc4 \\ud0dd\\uc2dc\"\n        ],\n        \"semantic_type\": \"\",\n        \"description\": \"\"\n      }\n    },\n    {\n      \"column\": \"distributor\",\n      \"properties\": {\n        \"dtype\": \"category\",\n        \"num_unique_values\": 169,\n        \"samples\": [\n          \"KBS\\ubbf8\\ub514\\uc5b4(\\uc8fc)\",\n          \"CJ CGV\",\n          \"\\ud544\\ub984\\ub77c\\uc778\"\n        ],\n        \"semantic_type\": \"\",\n        \"description\": \"\"\n      }\n    },\n    {\n      \"column\": \"genre\",\n      \"properties\": {\n        \"dtype\": \"category\",\n        \"num_unique_values\": 12,\n        \"samples\": [\n          \"\\ubbf8\\uc2a4\\ud130\\ub9ac\",\n          \"\\uc560\\ub2c8\\uba54\\uc774\\uc158\",\n          \"\\uc561\\uc158\"\n        ],\n        \"semantic_type\": \"\",\n        \"description\": \"\"\n      }\n    },\n    {\n      \"column\": \"release_time\",\n      \"properties\": {\n        \"dtype\": \"object\",\n        \"num_unique_values\": 330,\n        \"samples\": [\n          \"2012-03-15\",\n          \"2015-06-11\",\n          \"2015-11-05\"\n        ],\n        \"semantic_type\": \"\",\n        \"description\": \"\"\n      }\n    },\n    {\n      \"column\": \"time\",\n      \"properties\": {\n        \"dtype\": \"number\",\n        \"std\": 18,\n        \"min\": 45,\n        \"max\": 180,\n        \"num_unique_values\": 86,\n        \"samples\": [\n          180,\n          96,\n          73\n        ],\n        \"semantic_type\": \"\",\n        \"description\": \"\"\n      }\n    },\n    {\n      \"column\": \"screening_rat\",\n      \"properties\": {\n        \"dtype\": \"category\",\n        \"num_unique_values\": 4,\n        \"samples\": [\n          \"15\\uc138 \\uad00\\ub78c\\uac00\",\n          \"12\\uc138 \\uad00\\ub78c\\uac00\",\n          \"\\uccad\\uc18c\\ub144 \\uad00\\ub78c\\ubd88\\uac00\"\n        ],\n        \"semantic_type\": \"\",\n        \"description\": \"\"\n      }\n    },\n    {\n      \"column\": \"director\",\n      \"properties\": {\n        \"dtype\": \"string\",\n        \"num_unique_values\": 472,\n        \"samples\": [\n          \"\\uae40\\uc131\\ud638\",\n          \"\\uae40\\uc0c1\\ub9cc\",\n          \"\\uc7a5\\ud76c\\uc120\"\n        ],\n        \"semantic_type\": \"\",\n        \"description\": \"\"\n      }\n    },\n    {\n      \"column\": \"dir_prev_bfnum\",\n      \"properties\": {\n        \"dtype\": \"number\",\n        \"std\": 1309474.3065380566,\n        \"min\": 0.0,\n        \"max\": 17615314.0,\n        \"num_unique_values\": 246,\n        \"samples\": [\n          1715370.0,\n          739522.0,\n          234261.0\n        ],\n        \"semantic_type\": \"\",\n        \"description\": \"\"\n      }\n    },\n    {\n      \"column\": \"dir_prev_num\",\n      \"properties\": {\n        \"dtype\": \"number\",\n        \"std\": 1,\n        \"min\": 0,\n        \"max\": 5,\n        \"num_unique_values\": 6,\n        \"samples\": [\n          0,\n          2,\n          5\n        ],\n        \"semantic_type\": \"\",\n        \"description\": \"\"\n      }\n    },\n    {\n      \"column\": \"num_staff\",\n      \"properties\": {\n        \"dtype\": \"number\",\n        \"std\": 165,\n        \"min\": 0,\n        \"max\": 869,\n        \"num_unique_values\": 296,\n        \"samples\": [\n          300,\n          302,\n          298\n        ],\n        \"semantic_type\": \"\",\n        \"description\": \"\"\n      }\n    },\n    {\n      \"column\": \"num_actor\",\n      \"properties\": {\n        \"dtype\": \"number\",\n        \"std\": 2,\n        \"min\": 0,\n        \"max\": 25,\n        \"num_unique_values\": 17,\n        \"samples\": [\n          2,\n          3,\n          1\n        ],\n        \"semantic_type\": \"\",\n        \"description\": \"\"\n      }\n    },\n    {\n      \"column\": \"box_off_num\",\n      \"properties\": {\n        \"dtype\": \"number\",\n        \"std\": 1828005,\n        \"min\": 1,\n        \"max\": 14262766,\n        \"num_unique_values\": 586,\n        \"samples\": [\n          426,\n          1980050,\n          577\n        ],\n        \"semantic_type\": \"\",\n        \"description\": \"\"\n      }\n    }\n  ]\n}"
            }
          },
          "metadata": {},
          "execution_count": 3
        }
      ]
    },
    {
      "cell_type": "markdown",
      "source": [
        "## **데이터 시각화**"
      ],
      "metadata": {
        "id": "kYfO3ZjWjz-G"
      }
    },
    {
      "cell_type": "markdown",
      "source": [
        "### **1. 계절에 따른 장르별 관객 수**"
      ],
      "metadata": {
        "id": "0o2WttGwSvt-"
      }
    },
    {
      "cell_type": "code",
      "source": [
        "def get_season(release_time):\n",
        "  # release_time에서 월을 추출\n",
        "  month = release_time.month\n",
        "\n",
        "  # 각 월에 맞는 계절을 결정\n",
        "  if month in [3,4,5]:\n",
        "    return 'spring'\n",
        "  elif month in [6,7,8]:\n",
        "    return 'summer'\n",
        "  elif month in [9,10]:\n",
        "    return 'autumn'\n",
        "  elif month in [11,12,1,2]:\n",
        "    return 'winter'"
      ],
      "metadata": {
        "id": "qGdqwr-BS1op"
      },
      "execution_count": null,
      "outputs": []
    },
    {
      "cell_type": "code",
      "source": [
        "from datetime import datetime\n",
        "\n",
        "# release_time을 datetime으로 변환\n",
        "train['release_time'] = pd.to_datetime(train['release_time'])\n",
        "\n",
        "# 계절 컬럼 추가\n",
        "train['season'] = train['release_time'].apply(get_season)\n",
        "\n",
        "# 박스플롯 그리기\n",
        "plt.figure(figsize=(10,6))\n",
        "sns.boxplot(x='season', y='box_off_num', hue='genre', data=train)\n",
        "plt.title('계절 별로 그린 장르별 관객 수')\n",
        "plt.show()"
      ],
      "metadata": {
        "colab": {
          "base_uri": "https://localhost:8080/",
          "height": 1000
        },
        "id": "btniZYgdUSRm",
        "outputId": "e93fe581-6ee0-4c1c-b18c-d25ebcb16b98"
      },
      "execution_count": null,
      "outputs": [
        {
          "output_type": "stream",
          "name": "stderr",
          "text": [
            "/usr/local/lib/python3.11/dist-packages/IPython/core/pylabtools.py:151: UserWarning: Glyph 44228 (\\N{HANGUL SYLLABLE GYE}) missing from font(s) DejaVu Sans.\n",
            "  fig.canvas.print_figure(bytes_io, **kw)\n",
            "/usr/local/lib/python3.11/dist-packages/IPython/core/pylabtools.py:151: UserWarning: Glyph 51208 (\\N{HANGUL SYLLABLE JEOL}) missing from font(s) DejaVu Sans.\n",
            "  fig.canvas.print_figure(bytes_io, **kw)\n",
            "/usr/local/lib/python3.11/dist-packages/IPython/core/pylabtools.py:151: UserWarning: Glyph 48324 (\\N{HANGUL SYLLABLE BYEOL}) missing from font(s) DejaVu Sans.\n",
            "  fig.canvas.print_figure(bytes_io, **kw)\n",
            "/usr/local/lib/python3.11/dist-packages/IPython/core/pylabtools.py:151: UserWarning: Glyph 47196 (\\N{HANGUL SYLLABLE RO}) missing from font(s) DejaVu Sans.\n",
            "  fig.canvas.print_figure(bytes_io, **kw)\n",
            "/usr/local/lib/python3.11/dist-packages/IPython/core/pylabtools.py:151: UserWarning: Glyph 44536 (\\N{HANGUL SYLLABLE GEU}) missing from font(s) DejaVu Sans.\n",
            "  fig.canvas.print_figure(bytes_io, **kw)\n",
            "/usr/local/lib/python3.11/dist-packages/IPython/core/pylabtools.py:151: UserWarning: Glyph 47536 (\\N{HANGUL SYLLABLE RIN}) missing from font(s) DejaVu Sans.\n",
            "  fig.canvas.print_figure(bytes_io, **kw)\n",
            "/usr/local/lib/python3.11/dist-packages/IPython/core/pylabtools.py:151: UserWarning: Glyph 51109 (\\N{HANGUL SYLLABLE JANG}) missing from font(s) DejaVu Sans.\n",
            "  fig.canvas.print_figure(bytes_io, **kw)\n",
            "/usr/local/lib/python3.11/dist-packages/IPython/core/pylabtools.py:151: UserWarning: Glyph 47476 (\\N{HANGUL SYLLABLE REU}) missing from font(s) DejaVu Sans.\n",
            "  fig.canvas.print_figure(bytes_io, **kw)\n",
            "/usr/local/lib/python3.11/dist-packages/IPython/core/pylabtools.py:151: UserWarning: Glyph 44288 (\\N{HANGUL SYLLABLE GWAN}) missing from font(s) DejaVu Sans.\n",
            "  fig.canvas.print_figure(bytes_io, **kw)\n",
            "/usr/local/lib/python3.11/dist-packages/IPython/core/pylabtools.py:151: UserWarning: Glyph 44061 (\\N{HANGUL SYLLABLE GAEG}) missing from font(s) DejaVu Sans.\n",
            "  fig.canvas.print_figure(bytes_io, **kw)\n",
            "/usr/local/lib/python3.11/dist-packages/IPython/core/pylabtools.py:151: UserWarning: Glyph 49688 (\\N{HANGUL SYLLABLE SU}) missing from font(s) DejaVu Sans.\n",
            "  fig.canvas.print_figure(bytes_io, **kw)\n",
            "/usr/local/lib/python3.11/dist-packages/IPython/core/pylabtools.py:151: UserWarning: Glyph 50529 (\\N{HANGUL SYLLABLE AEG}) missing from font(s) DejaVu Sans.\n",
            "  fig.canvas.print_figure(bytes_io, **kw)\n",
            "/usr/local/lib/python3.11/dist-packages/IPython/core/pylabtools.py:151: UserWarning: Glyph 49496 (\\N{HANGUL SYLLABLE SYEON}) missing from font(s) DejaVu Sans.\n",
            "  fig.canvas.print_figure(bytes_io, **kw)\n",
            "/usr/local/lib/python3.11/dist-packages/IPython/core/pylabtools.py:151: UserWarning: Glyph 45712 (\\N{HANGUL SYLLABLE NEU}) missing from font(s) DejaVu Sans.\n",
            "  fig.canvas.print_figure(bytes_io, **kw)\n",
            "/usr/local/lib/python3.11/dist-packages/IPython/core/pylabtools.py:151: UserWarning: Glyph 50752 (\\N{HANGUL SYLLABLE WA}) missing from font(s) DejaVu Sans.\n",
            "  fig.canvas.print_figure(bytes_io, **kw)\n",
            "/usr/local/lib/python3.11/dist-packages/IPython/core/pylabtools.py:151: UserWarning: Glyph 53076 (\\N{HANGUL SYLLABLE KO}) missing from font(s) DejaVu Sans.\n",
            "  fig.canvas.print_figure(bytes_io, **kw)\n",
            "/usr/local/lib/python3.11/dist-packages/IPython/core/pylabtools.py:151: UserWarning: Glyph 48120 (\\N{HANGUL SYLLABLE MI}) missing from font(s) DejaVu Sans.\n",
            "  fig.canvas.print_figure(bytes_io, **kw)\n",
            "/usr/local/lib/python3.11/dist-packages/IPython/core/pylabtools.py:151: UserWarning: Glyph 46356 (\\N{HANGUL SYLLABLE DI}) missing from font(s) DejaVu Sans.\n",
            "  fig.canvas.print_figure(bytes_io, **kw)\n",
            "/usr/local/lib/python3.11/dist-packages/IPython/core/pylabtools.py:151: UserWarning: Glyph 45796 (\\N{HANGUL SYLLABLE DA}) missing from font(s) DejaVu Sans.\n",
            "  fig.canvas.print_figure(bytes_io, **kw)\n",
            "/usr/local/lib/python3.11/dist-packages/IPython/core/pylabtools.py:151: UserWarning: Glyph 53328 (\\N{HANGUL SYLLABLE KYU}) missing from font(s) DejaVu Sans.\n",
            "  fig.canvas.print_figure(bytes_io, **kw)\n",
            "/usr/local/lib/python3.11/dist-packages/IPython/core/pylabtools.py:151: UserWarning: Glyph 47704 (\\N{HANGUL SYLLABLE MEN}) missing from font(s) DejaVu Sans.\n",
            "  fig.canvas.print_figure(bytes_io, **kw)\n",
            "/usr/local/lib/python3.11/dist-packages/IPython/core/pylabtools.py:151: UserWarning: Glyph 53552 (\\N{HANGUL SYLLABLE TEO}) missing from font(s) DejaVu Sans.\n",
            "  fig.canvas.print_figure(bytes_io, **kw)\n",
            "/usr/local/lib/python3.11/dist-packages/IPython/core/pylabtools.py:151: UserWarning: Glyph 47532 (\\N{HANGUL SYLLABLE RI}) missing from font(s) DejaVu Sans.\n",
            "  fig.canvas.print_figure(bytes_io, **kw)\n",
            "/usr/local/lib/python3.11/dist-packages/IPython/core/pylabtools.py:151: UserWarning: Glyph 48036 (\\N{HANGUL SYLLABLE MYU}) missing from font(s) DejaVu Sans.\n",
            "  fig.canvas.print_figure(bytes_io, **kw)\n",
            "/usr/local/lib/python3.11/dist-packages/IPython/core/pylabtools.py:151: UserWarning: Glyph 51648 (\\N{HANGUL SYLLABLE JI}) missing from font(s) DejaVu Sans.\n",
            "  fig.canvas.print_figure(bytes_io, **kw)\n",
            "/usr/local/lib/python3.11/dist-packages/IPython/core/pylabtools.py:151: UserWarning: Glyph 52972 (\\N{HANGUL SYLLABLE KEOL}) missing from font(s) DejaVu Sans.\n",
            "  fig.canvas.print_figure(bytes_io, **kw)\n",
            "/usr/local/lib/python3.11/dist-packages/IPython/core/pylabtools.py:151: UserWarning: Glyph 46300 (\\N{HANGUL SYLLABLE DEU}) missing from font(s) DejaVu Sans.\n",
            "  fig.canvas.print_figure(bytes_io, **kw)\n",
            "/usr/local/lib/python3.11/dist-packages/IPython/core/pylabtools.py:151: UserWarning: Glyph 46972 (\\N{HANGUL SYLLABLE RA}) missing from font(s) DejaVu Sans.\n",
            "  fig.canvas.print_figure(bytes_io, **kw)\n",
            "/usr/local/lib/python3.11/dist-packages/IPython/core/pylabtools.py:151: UserWarning: Glyph 47560 (\\N{HANGUL SYLLABLE MA}) missing from font(s) DejaVu Sans.\n",
            "  fig.canvas.print_figure(bytes_io, **kw)\n",
            "/usr/local/lib/python3.11/dist-packages/IPython/core/pylabtools.py:151: UserWarning: Glyph 47708 (\\N{HANGUL SYLLABLE MEL}) missing from font(s) DejaVu Sans.\n",
            "  fig.canvas.print_figure(bytes_io, **kw)\n",
            "/usr/local/lib/python3.11/dist-packages/IPython/core/pylabtools.py:151: UserWarning: Glyph 47592 (\\N{HANGUL SYLLABLE MAEN}) missing from font(s) DejaVu Sans.\n",
            "  fig.canvas.print_figure(bytes_io, **kw)\n",
            "/usr/local/lib/python3.11/dist-packages/IPython/core/pylabtools.py:151: UserWarning: Glyph 49828 (\\N{HANGUL SYLLABLE SEU}) missing from font(s) DejaVu Sans.\n",
            "  fig.canvas.print_figure(bytes_io, **kw)\n",
            "/usr/local/lib/python3.11/dist-packages/IPython/core/pylabtools.py:151: UserWarning: Glyph 44277 (\\N{HANGUL SYLLABLE GONG}) missing from font(s) DejaVu Sans.\n",
            "  fig.canvas.print_figure(bytes_io, **kw)\n",
            "/usr/local/lib/python3.11/dist-packages/IPython/core/pylabtools.py:151: UserWarning: Glyph 54252 (\\N{HANGUL SYLLABLE PO}) missing from font(s) DejaVu Sans.\n",
            "  fig.canvas.print_figure(bytes_io, **kw)\n",
            "/usr/local/lib/python3.11/dist-packages/IPython/core/pylabtools.py:151: UserWarning: Glyph 49436 (\\N{HANGUL SYLLABLE SEO}) missing from font(s) DejaVu Sans.\n",
            "  fig.canvas.print_figure(bytes_io, **kw)\n",
            "/usr/local/lib/python3.11/dist-packages/IPython/core/pylabtools.py:151: UserWarning: Glyph 54172 (\\N{HANGUL SYLLABLE PEN}) missing from font(s) DejaVu Sans.\n",
            "  fig.canvas.print_figure(bytes_io, **kw)\n",
            "/usr/local/lib/python3.11/dist-packages/IPython/core/pylabtools.py:151: UserWarning: Glyph 50528 (\\N{HANGUL SYLLABLE AE}) missing from font(s) DejaVu Sans.\n",
            "  fig.canvas.print_figure(bytes_io, **kw)\n",
            "/usr/local/lib/python3.11/dist-packages/IPython/core/pylabtools.py:151: UserWarning: Glyph 45768 (\\N{HANGUL SYLLABLE NI}) missing from font(s) DejaVu Sans.\n",
            "  fig.canvas.print_figure(bytes_io, **kw)\n",
            "/usr/local/lib/python3.11/dist-packages/IPython/core/pylabtools.py:151: UserWarning: Glyph 47700 (\\N{HANGUL SYLLABLE ME}) missing from font(s) DejaVu Sans.\n",
            "  fig.canvas.print_figure(bytes_io, **kw)\n",
            "/usr/local/lib/python3.11/dist-packages/IPython/core/pylabtools.py:151: UserWarning: Glyph 51060 (\\N{HANGUL SYLLABLE I}) missing from font(s) DejaVu Sans.\n",
            "  fig.canvas.print_figure(bytes_io, **kw)\n"
          ]
        },
        {
          "output_type": "display_data",
          "data": {
            "text/plain": [
              "<Figure size 1000x600 with 1 Axes>"
            ],
            "image/png": "[encoded data removed]"
          },
          "metadata": {}
        }
      ]
    },
    {
      "cell_type": "markdown",
      "source": [
        "#### 장르가 너무 많아서 일단 계절별 장르만 봐야겠음"
      ],
      "metadata": {
        "id": "YT0SMdspVJz2"
      }
    },
    {
      "cell_type": "code",
      "source": [
        "# from matplotlib import font_manager\n",
        "\n",
        "# 'HYGraphic 중간' 폰트 경로 지정 (Windows의 경우 폰트 파일이 C:\\Windows\\Fonts에 있음)\n",
        "#font_path = \"C:\\\\Windows\\\\Fonts\\\\Bahnschrift.ttf\"  # 'HYGraphic 중간' 폰트 파일 경로 지정\n",
        "#fontprop = font_manager.FontProperties(fname=font_path)\n",
        "\n",
        "# matplotlib에서 한글 폰트 사용 설정\n",
        "#plt.rcParams['font.family'] = fontprop.get_name()  # 기본 폰트로 설정\n",
        "# plt.rcParams['axes.unicode_minus'] = False  # 마이너스 기호 깨지는 문제 해결\n",
        "# 폰트가 안됨..."
      ],
      "metadata": {
        "id": "EnwU_82EV-DS"
      },
      "execution_count": null,
      "outputs": []
    },
    {
      "cell_type": "code",
      "source": [
        "#season_genre_avg = train.groupby(['season', 'genre'])['box_off_num'].mean().reset_index()\n",
        "#g = sns.FacetGrid(season_genre_avg, col='season', col_wrap=2, height=4, aspect=1.5)\n",
        "#g.map(sns.barplot, 'genre', 'box_off_num', order=season_genre_avg['genre'].unique())\n",
        "#g.set_titles('{col_name} 계절')\n",
        "#g.set_axis_labels('장르', '평균 관객 수')\n",
        "#plt.subplots_adjust(top=0.9)  # 타이틀 위치 조정\n",
        "#g.fig.suptitle('계절별 장르별 평균 관객 수')  # 전체 제목 설정\n",
        "#plt.show()"
      ],
      "metadata": {
        "id": "lFX8XTfJVeu1"
      },
      "execution_count": null,
      "outputs": []
    },
    {
      "cell_type": "code",
      "source": [
        "# 월을 추출하여 새로운 컬럼 'month' 추가\n",
        "train['month'] = train['release_time'].dt.month\n",
        "\n",
        "# 월별 관객 수 합계 계산\n",
        "monthly_box_off = train.groupby('month')['box_off_num'].sum().reset_index()\n",
        "\n",
        "# 월별 관객 수 시각화 (막대그래프)\n",
        "plt.figure(figsize=(10, 6))\n",
        "sns.barplot(x='month', y='box_off_num', data=monthly_box_off, palette='viridis')\n",
        "plt.title('월별 관객 수')\n",
        "plt.xlabel('월')\n",
        "plt.ylabel('총 관객 수')\n",
        "plt.xticks(ticks=range(12), labels=['1월', '2월', '3월', '4월', '5월', '6월', '7월', '8월', '9월', '10월', '11월', '12월'])\n",
        "plt.show()"
      ],
      "metadata": {
        "colab": {
          "base_uri": "https://localhost:8080/",
          "height": 871
        },
        "id": "Gq_oJmDoZGXL",
        "outputId": "c77720dc-33ff-4a31-d814-1307469a4740"
      },
      "execution_count": null,
      "outputs": [
        {
          "output_type": "stream",
          "name": "stderr",
          "text": [
            "<ipython-input-8-77c1d8a08eb7>:9: FutureWarning: \n",
            "\n",
            "Passing `palette` without assigning `hue` is deprecated and will be removed in v0.14.0. Assign the `x` variable to `hue` and set `legend=False` for the same effect.\n",
            "\n",
            "  sns.barplot(x='month', y='box_off_num', data=monthly_box_off, palette='viridis')\n",
            "/usr/local/lib/python3.11/dist-packages/IPython/core/pylabtools.py:151: UserWarning: Glyph 52509 (\\N{HANGUL SYLLABLE CONG}) missing from font(s) DejaVu Sans.\n",
            "  fig.canvas.print_figure(bytes_io, **kw)\n",
            "/usr/local/lib/python3.11/dist-packages/IPython/core/pylabtools.py:151: UserWarning: Glyph 44288 (\\N{HANGUL SYLLABLE GWAN}) missing from font(s) DejaVu Sans.\n",
            "  fig.canvas.print_figure(bytes_io, **kw)\n",
            "/usr/local/lib/python3.11/dist-packages/IPython/core/pylabtools.py:151: UserWarning: Glyph 44061 (\\N{HANGUL SYLLABLE GAEG}) missing from font(s) DejaVu Sans.\n",
            "  fig.canvas.print_figure(bytes_io, **kw)\n",
            "/usr/local/lib/python3.11/dist-packages/IPython/core/pylabtools.py:151: UserWarning: Glyph 49688 (\\N{HANGUL SYLLABLE SU}) missing from font(s) DejaVu Sans.\n",
            "  fig.canvas.print_figure(bytes_io, **kw)\n",
            "/usr/local/lib/python3.11/dist-packages/IPython/core/pylabtools.py:151: UserWarning: Glyph 50900 (\\N{HANGUL SYLLABLE WEOL}) missing from font(s) DejaVu Sans.\n",
            "  fig.canvas.print_figure(bytes_io, **kw)\n",
            "/usr/local/lib/python3.11/dist-packages/IPython/core/pylabtools.py:151: UserWarning: Glyph 48324 (\\N{HANGUL SYLLABLE BYEOL}) missing from font(s) DejaVu Sans.\n",
            "  fig.canvas.print_figure(bytes_io, **kw)\n"
          ]
        },
        {
          "output_type": "display_data",
          "data": {
            "text/plain": [
              "<Figure size 1000x600 with 1 Axes>"
            ],
            "image/png": "[encoded data removed]"
          },
          "metadata": {}
        }
      ]
    },
    {
      "cell_type": "markdown",
      "source": [
        "### 봄에는 5월이, 여름에는 8월이, 가을에는 9월이, 겨울에는 12, 1월이 가장 관객 수가 많다.\n",
        "### 각각의 월별 장르를 살펴보자"
      ],
      "metadata": {
        "id": "qlyD_G15ZdM8"
      }
    },
    {
      "cell_type": "markdown",
      "source": [
        "### **봄**"
      ],
      "metadata": {
        "id": "12WlrlUqbbqo"
      }
    },
    {
      "cell_type": "code",
      "source": [
        "# DataFrame 생성\n",
        "train = pd.DataFrame(train)\n",
        "\n",
        "# release_time을 datetime 형식으로 변환\n",
        "train['release_time'] = pd.to_datetime(train['release_time'])\n",
        "\n",
        "# 5월 데이터만 필터링\n",
        "train_may = train[train['release_time'].dt.month == 5]\n",
        "\n",
        "# 장르별로 관객 수 합산\n",
        "genre_box_off_may = train_may.groupby('genre')['box_off_num'].sum().reset_index()\n",
        "\n",
        "# 관객 수를 기준으로 내림차순 정렬하고, 상위 5개 장르 선택\n",
        "top_5_genres = genre_box_off_may.sort_values(by='box_off_num', ascending=False).head(5)\n",
        "\n",
        "# 결과 출력\n",
        "print(\"5월 중 가장 많은 관객을 기록한 상위 5개 장르:\")\n",
        "print(top_5_genres)"
      ],
      "metadata": {
        "colab": {
          "base_uri": "https://localhost:8080/"
        },
        "id": "GWtDvvW5Z3cG",
        "outputId": "217f388a-c11f-47f0-f503-6b32c53dd66d"
      },
      "execution_count": null,
      "outputs": [
        {
          "output_type": "stream",
          "name": "stdout",
          "text": [
            "5월 중 가장 많은 관객을 기록한 상위 5개 장르:\n",
            "    genre  box_off_num\n",
            "8     코미디     12906860\n",
            "3     드라마      6340244\n",
            "1     느와르      5643838\n",
            "4  멜로/로맨스      4608221\n",
            "0      공포      3134965\n"
          ]
        }
      ]
    },
    {
      "cell_type": "markdown",
      "source": [
        "#### 봄엔 코미디가 압도적으로 많고 나머지는 비슷한 편이다"
      ],
      "metadata": {
        "id": "L-HR2ikycUKn"
      }
    },
    {
      "cell_type": "markdown",
      "source": [
        "### **여름**"
      ],
      "metadata": {
        "id": "TiDReFa1beIi"
      }
    },
    {
      "cell_type": "code",
      "source": [
        "# DataFrame 생성\n",
        "train = pd.DataFrame(train)\n",
        "\n",
        "# release_time을 datetime 형식으로 변환\n",
        "train['release_time'] = pd.to_datetime(train['release_time'])\n",
        "\n",
        "# 8월 데이터만 필터링\n",
        "train_aug = train[train['release_time'].dt.month == 8]\n",
        "\n",
        "# 장르별로 관객 수 합산\n",
        "genre_box_off_aug = train_aug.groupby('genre')['box_off_num'].sum().reset_index()\n",
        "\n",
        "# 관객 수를 기준으로 내림차순 정렬하고, 상위 5개 장르 선택\n",
        "top_5_genres_aug = genre_box_off_aug.sort_values(by='box_off_num', ascending=False).head(5)\n",
        "\n",
        "# 결과 출력\n",
        "print(\"8월 중 가장 많은 관객을 기록한 상위 5개 장르:\")\n",
        "print(top_5_genres_aug)"
      ],
      "metadata": {
        "colab": {
          "base_uri": "https://localhost:8080/"
        },
        "id": "DdFGnKpIbmGW",
        "outputId": "af8b47ce-b79c-46db-a59f-1813fc9dbba2"
      },
      "execution_count": null,
      "outputs": [
        {
          "output_type": "stream",
          "name": "stdout",
          "text": [
            "8월 중 가장 많은 관객을 기록한 상위 5개 장르:\n",
            "  genre  box_off_num\n",
            "0    SF     20261544\n",
            "8    액션     15640582\n",
            "1    공포      8696468\n",
            "4   드라마      6215167\n",
            "2   느와르      3464335\n"
          ]
        }
      ]
    },
    {
      "cell_type": "markdown",
      "source": [
        "#### 여름엔 SF가 압도적으로 많고 그 다음 액션, 공포도 꽤나 많다"
      ],
      "metadata": {
        "id": "fZFpwZYMcZ_6"
      }
    },
    {
      "cell_type": "markdown",
      "source": [
        "### **가을**"
      ],
      "metadata": {
        "id": "IsfUmYIJbfyx"
      }
    },
    {
      "cell_type": "code",
      "source": [
        "# DataFrame 생성\n",
        "train = pd.DataFrame(train)\n",
        "\n",
        "# release_time을 datetime 형식으로 변환\n",
        "train['release_time'] = pd.to_datetime(train['release_time'])\n",
        "\n",
        "# 9월 데이터만 필터링\n",
        "train_sep = train[train['release_time'].dt.month == 9]\n",
        "\n",
        "# 장르별로 관객 수 합산\n",
        "genre_box_off_sep = train_sep.groupby('genre')['box_off_num'].sum().reset_index()\n",
        "\n",
        "# 관객 수를 기준으로 내림차순 정렬하고, 상위 5개 장르 선택\n",
        "top_5_genres_sep = genre_box_off_sep.sort_values(by='box_off_num', ascending=False).head(5)\n",
        "\n",
        "# 결과 출력\n",
        "print(\"9월 중 가장 많은 관객을 기록한 상위 5개 장르:\")\n",
        "print(top_5_genres_sep)"
      ],
      "metadata": {
        "colab": {
          "base_uri": "https://localhost:8080/"
        },
        "id": "Suj-0OAdbzR2",
        "outputId": "de668669-60fe-46ad-d094-b66ba1ff045d"
      },
      "execution_count": null,
      "outputs": [
        {
          "output_type": "stream",
          "name": "stdout",
          "text": [
            "9월 중 가장 많은 관객을 기록한 상위 5개 장르:\n",
            "    genre  box_off_num\n",
            "2     드라마     33136049\n",
            "8     코미디      4178216\n",
            "3  멜로/로맨스      2708987\n",
            "7      액션      2626742\n",
            "0      공포       709400\n"
          ]
        }
      ]
    },
    {
      "cell_type": "markdown",
      "source": [
        "#### 가을엔 드라마가 압도적으로 많다 (자리수까지 차이...)"
      ],
      "metadata": {
        "id": "ggi9SVFjcfHv"
      }
    },
    {
      "cell_type": "markdown",
      "source": [
        "### **겨울**"
      ],
      "metadata": {
        "id": "UbkaX6s9bg_a"
      }
    },
    {
      "cell_type": "code",
      "source": [
        "# DataFrame 생성\n",
        "train = pd.DataFrame(train)\n",
        "\n",
        "# release_time을 datetime 형식으로 변환\n",
        "train['release_time'] = pd.to_datetime(train['release_time'])\n",
        "\n",
        "# 12월 데이터만 필터링\n",
        "train_dec = train[train['release_time'].dt.month == 12]\n",
        "\n",
        "# 장르별로 관객 수 합산\n",
        "genre_box_off_dec = train_dec.groupby('genre')['box_off_num'].sum().reset_index()\n",
        "\n",
        "# 관객 수를 기준으로 내림차순 정렬하고, 상위 5개 장르 선택\n",
        "top_5_genres_dec = genre_box_off_dec.sort_values(by='box_off_num', ascending=False).head(5)\n",
        "\n",
        "# 결과 출력\n",
        "print(\"12월 중 가장 많은 관객을 기록한 상위 5개 장르:\")\n",
        "print(top_5_genres_dec)\n",
        "\n",
        "# ---------------------------------------------------\n",
        "\n",
        "train_jan = train[train['release_time'].dt.month == 1]\n",
        "\n",
        "# 장르별로 관객 수 합산\n",
        "genre_box_off_jan = train_jan.groupby('genre')['box_off_num'].sum().reset_index()\n",
        "\n",
        "# 관객 수를 기준으로 내림차순 정렬하고, 상위 5개 장르 선택\n",
        "top_5_genres_jan = genre_box_off_jan.sort_values(by='box_off_num', ascending=False).head(5)\n",
        "\n",
        "# 결과 출력\n",
        "print(\"1월 중 가장 많은 관객을 기록한 상위 5개 장르:\")\n",
        "print(top_5_genres_jan)"
      ],
      "metadata": {
        "colab": {
          "base_uri": "https://localhost:8080/"
        },
        "id": "LAJzJOyGb6gp",
        "outputId": "1c3c5aca-9256-49fd-d7e9-5d43f4c1e7c0"
      },
      "execution_count": null,
      "outputs": [
        {
          "output_type": "stream",
          "name": "stdout",
          "text": [
            "12월 중 가장 많은 관객을 기록한 상위 5개 장르:\n",
            "    genre  box_off_num\n",
            "4     드라마     47990137\n",
            "8     코미디      5773555\n",
            "5  멜로/로맨스      4456464\n",
            "2     느와르      4346165\n",
            "7   애니메이션       471445\n",
            "1월 중 가장 많은 관객을 기록한 상위 5개 장르:\n",
            "    genre  box_off_num\n",
            "7     코미디     31168153\n",
            "3     드라마      9901962\n",
            "6      액션      9358808\n",
            "4  멜로/로맨스      2189474\n",
            "5   애니메이션       479280\n"
          ]
        }
      ]
    },
    {
      "cell_type": "markdown",
      "source": [
        "#### 막대그래프에서 12, 1월이 비슷해서 둘 다 출력해봤는데 12월은 드라마가, 1월은 코미디가 압도적으로 많다\n",
        "#### 흥행 영화가 개봉했던 것일까"
      ],
      "metadata": {
        "id": "9VcBEgI1cjzJ"
      }
    },
    {
      "cell_type": "markdown",
      "source": [
        "### **10. 개봉 시기에 따른 흥행 여부**"
      ],
      "metadata": {
        "id": "tLsyWNDHS2So"
      }
    },
    {
      "cell_type": "markdown",
      "source": [
        "#### 1, 10번 주제가 연결되니 나누지 말고 일단 쭉"
      ],
      "metadata": {
        "id": "FkR8u1C8c3iH"
      }
    },
    {
      "cell_type": "markdown",
      "source": [
        "## **봄**"
      ],
      "metadata": {
        "id": "AfUNbWSbg7SX"
      }
    },
    {
      "cell_type": "code",
      "source": [
        "# DataFrame 생성\n",
        "train = pd.DataFrame(train)\n",
        "\n",
        "# release_time을 datetime 형식으로 변환\n",
        "train['release_time'] = pd.to_datetime(train['release_time'])\n",
        "\n",
        "# 봄(3, 4, 5월) 데이터만 필터링\n",
        "train_spring = train[train['release_time'].dt.month.isin([3, 4, 5])]\n",
        "\n",
        "# 장르가 '코미디'인 데이터만 필터링\n",
        "train_spring_comedy = train_spring[train_spring['genre'] == '코미디']\n",
        "\n",
        "# 'screening_rat'에 따른 나이 제한의 빈도 계산\n",
        "screening_counts = train_spring_comedy['screening_rat'].value_counts()\n",
        "\n",
        "# 가장 많이 나타나는 상위 3개 나이 제한 선택\n",
        "top_3_screening = screening_counts.head(3)\n",
        "\n",
        "# 결과 출력\n",
        "print(\"봄 시즌 코미디 영화에서 가장 많이 나타나는 상위 3개 나이 제한:\")\n",
        "print(top_3_screening)"
      ],
      "metadata": {
        "colab": {
          "base_uri": "https://localhost:8080/"
        },
        "id": "p63aBstgc8S5",
        "outputId": "a291f950-8a62-40d6-b990-69ba18ff6b6c"
      },
      "execution_count": null,
      "outputs": [
        {
          "output_type": "stream",
          "name": "stdout",
          "text": [
            "봄 시즌 코미디 영화에서 가장 많이 나타나는 상위 3개 나이 제한:\n",
            "screening_rat\n",
            "15세 관람가    8\n",
            "전체 관람가     1\n",
            "12세 관람가    1\n",
            "Name: count, dtype: int64\n"
          ]
        }
      ]
    },
    {
      "cell_type": "markdown",
      "source": [
        "####  코미디다 보니 청불은 없고 15세 정도가 가장 많은듯"
      ],
      "metadata": {
        "id": "QeDtc-j1d_2v"
      }
    },
    {
      "cell_type": "code",
      "source": [
        "# 제작사별 영화 수를 계산\n",
        "distributor_counts = train_spring_comedy['distributor'].value_counts()\n",
        "\n",
        "# 가장 많이 나타나는 상위 3개 제작사 선택\n",
        "top_3_distributors = distributor_counts.head(3)\n",
        "\n",
        "# 결과 출력\n",
        "print(\"봄 시즌 코미디 영화에서 가장 많이 나타나는 상위 3개 제작사:\")\n",
        "print(top_3_distributors)"
      ],
      "metadata": {
        "colab": {
          "base_uri": "https://localhost:8080/"
        },
        "id": "CBV7F6WvdXqr",
        "outputId": "bc498c2f-6610-4b0a-9299-53bf23d570b9"
      },
      "execution_count": null,
      "outputs": [
        {
          "output_type": "stream",
          "name": "stdout",
          "text": [
            "봄 시즌 코미디 영화에서 가장 많이 나타나는 상위 3개 제작사:\n",
            "distributor\n",
            "CJ 엔터테인먼트          2\n",
            "CJ E&M Pictures    1\n",
            "드림팩트 엔터테인먼트        1\n",
            "Name: count, dtype: int64\n"
          ]
        }
      ]
    },
    {
      "cell_type": "markdown",
      "source": [
        "#### 제작사는 그냥 비슷비슷한듯"
      ],
      "metadata": {
        "id": "-TIGjB06ed_-"
      }
    },
    {
      "cell_type": "code",
      "source": [
        "# 관객 수를 기준으로 상위 3개 영화 제목을 선택\n",
        "top_3_movies = train_spring_comedy.nlargest(3, 'box_off_num')[['title', 'box_off_num']]\n",
        "\n",
        "# 결과 출력\n",
        "print(\"봄 시즌 코미디 영화 중 관객 수가 가장 많았던 상위 3개 영화:\")\n",
        "print(top_3_movies)"
      ],
      "metadata": {
        "colab": {
          "base_uri": "https://localhost:8080/"
        },
        "id": "w_2ZVbFDecK_",
        "outputId": "d6bb1d73-a016-4907-9a73-b1df0c6be730"
      },
      "execution_count": null,
      "outputs": [
        {
          "output_type": "stream",
          "name": "stdout",
          "text": [
            "봄 시즌 코미디 영화 중 관객 수가 가장 많았던 상위 3개 영화:\n",
            "    title  box_off_num\n",
            "16     써니      7453715\n",
            "536   스파이      2318748\n",
            "110   차형사      1346754\n"
          ]
        }
      ]
    },
    {
      "cell_type": "markdown",
      "source": [
        "#### 써니가 봄/코미디 중 가장 관객 수가 많다..\n",
        "#### 써니 영화의 특징을 살펴보자"
      ],
      "metadata": {
        "id": "aVmLDkZCeyxD"
      }
    },
    {
      "cell_type": "code",
      "source": [
        "# title이 '써니'인 행만 필터링\n",
        "sunny_movie = train_spring_comedy[train_spring_comedy['title'] == '써니']\n",
        "\n",
        "# 결과 출력\n",
        "print(\"봄 시즌 코미디 영화 중 '써니' 제목을 가진 영화:\")\n",
        "print(sunny_movie)"
      ],
      "metadata": {
        "colab": {
          "base_uri": "https://localhost:8080/"
        },
        "id": "ORWvJc2Ve54k",
        "outputId": "8e5928e6-fd06-4569-9383-d83e68d5f936"
      },
      "execution_count": null,
      "outputs": [
        {
          "output_type": "stream",
          "name": "stdout",
          "text": [
            "봄 시즌 코미디 영화 중 '써니' 제목을 가진 영화:\n",
            "   title      distributor genre release_time  time screening_rat director  \\\n",
            "16    써니  CJ E&M Pictures   코미디   2011-05-04   124       15세 관람가      강형철   \n",
            "\n",
            "    dir_prev_bfnum  dir_prev_num  num_staff  num_actor  box_off_num  season  \\\n",
            "16       8223342.0             1        572         11      7453715  spring   \n",
            "\n",
            "    month  \n",
            "16      5  \n"
          ]
        }
      ]
    },
    {
      "cell_type": "markdown",
      "source": [
        "#### 스탭 수가 많아 보이는데 보통 스탭 수가 어느 정도지?"
      ],
      "metadata": {
        "id": "wHIOcT-JfNQZ"
      }
    },
    {
      "cell_type": "code",
      "source": [
        "num_staff_stats = train_spring_comedy['num_staff'].describe()\n",
        "\n",
        "# 결과 출력\n",
        "print(\"봄 시즌 코미디 영화의 스탭 수 통계량:\")\n",
        "print(num_staff_stats)"
      ],
      "metadata": {
        "colab": {
          "base_uri": "https://localhost:8080/"
        },
        "id": "3_2ENAccfKZW",
        "outputId": "132ee77b-81b6-4f54-cc89-6f34dd5564e8"
      },
      "execution_count": null,
      "outputs": [
        {
          "output_type": "stream",
          "name": "stdout",
          "text": [
            "봄 시즌 코미디 영화의 스탭 수 통계량:\n",
            "count     11.000000\n",
            "mean     215.454545\n",
            "std      167.192921\n",
            "min       14.000000\n",
            "25%      102.500000\n",
            "50%      191.000000\n",
            "75%      292.000000\n",
            "max      572.000000\n",
            "Name: num_staff, dtype: float64\n"
          ]
        }
      ]
    },
    {
      "cell_type": "markdown",
      "source": [
        "#### **써니 영화가 최대 스탭 수를 가짐**"
      ],
      "metadata": {
        "id": "n8hlMAJ0gA03"
      }
    },
    {
      "cell_type": "markdown",
      "source": [
        "#### 써니 제작사인 CJ E&M Pictures 여기가 원래 스탭 수가 많은걸까"
      ],
      "metadata": {
        "id": "ZmE3-5ZNgKTZ"
      }
    },
    {
      "cell_type": "code",
      "source": [
        "# 'CJ E&M Pictures' 제작사의 데이터만 필터링\n",
        "cj_pictures = train[train['distributor'] == 'CJ E&M Pictures']\n",
        "\n",
        "# 스탭 수에 대한 통계량 출력\n",
        "num_staff_stats_cj = cj_pictures['num_staff'].describe()\n",
        "\n",
        "# 결과 출력\n",
        "print(\"CJ E&M Pictures 제작사의 스탭 수 통계량:\")\n",
        "print(num_staff_stats_cj)"
      ],
      "metadata": {
        "colab": {
          "base_uri": "https://localhost:8080/"
        },
        "id": "-fI1nj8MgM72",
        "outputId": "30c2a70a-501a-4a11-b674-bf54bfb325f2"
      },
      "execution_count": null,
      "outputs": [
        {
          "output_type": "stream",
          "name": "stdout",
          "text": [
            "CJ E&M Pictures 제작사의 스탭 수 통계량:\n",
            "count      2.000000\n",
            "mean     335.000000\n",
            "std      335.168614\n",
            "min       98.000000\n",
            "25%      216.500000\n",
            "50%      335.000000\n",
            "75%      453.500000\n",
            "max      572.000000\n",
            "Name: num_staff, dtype: float64\n"
          ]
        }
      ]
    },
    {
      "cell_type": "markdown",
      "source": [
        "#### CJ E&M Pictures 제작사가 스탭 수가 많은 편인 것 같은데 써니는 그 중에서도 가장 스탭 수가 많았던 영화임"
      ],
      "metadata": {
        "id": "Cs_ybxbTgx6_"
      }
    },
    {
      "cell_type": "code",
      "source": [
        "# 전체 스탭 수에 대한 통계량 출력\n",
        "num_staff_stats_all = train['num_staff'].describe()\n",
        "\n",
        "# 결과 출력\n",
        "print(\"전체 스탭 수 통계량:\")\n",
        "print(num_staff_stats_all)"
      ],
      "metadata": {
        "colab": {
          "base_uri": "https://localhost:8080/"
        },
        "id": "6-bRC8KwgofP",
        "outputId": "c041f76d-39e5-4c50-b9ac-e9c5e07735da"
      },
      "execution_count": null,
      "outputs": [
        {
          "output_type": "stream",
          "name": "stdout",
          "text": [
            "전체 스탭 수 통계량:\n",
            "count    600.000000\n",
            "mean     151.118333\n",
            "std      165.654671\n",
            "min        0.000000\n",
            "25%       17.000000\n",
            "50%       82.500000\n",
            "75%      264.000000\n",
            "max      869.000000\n",
            "Name: num_staff, dtype: float64\n"
          ]
        }
      ]
    },
    {
      "cell_type": "markdown",
      "source": [
        "#### 봄 시즌 뿐만 아니라 전체적으로 봐도 써니의 스탭 수는 꽤나 많은 편"
      ],
      "metadata": {
        "id": "7jP4T17Ugqhf"
      }
    },
    {
      "cell_type": "markdown",
      "source": [
        "# **봄/코미디**"
      ],
      "metadata": {
        "id": "PZoE05HFl9QT"
      }
    },
    {
      "cell_type": "markdown",
      "source": [
        "## **여름(SF)**"
      ],
      "metadata": {
        "id": "XQyoQ_haggH9"
      }
    },
    {
      "cell_type": "code",
      "source": [
        "# DataFrame 생성\n",
        "train = pd.DataFrame(train)\n",
        "\n",
        "# release_time을 datetime 형식으로 변환\n",
        "train['release_time'] = pd.to_datetime(train['release_time'])\n",
        "\n",
        "# 여름 (6,7,8월) 데이터만 필터링\n",
        "train_summer = train[train['release_time'].dt.month.isin([6, 7, 8])]\n",
        "\n",
        "# 장르가 'SF'인 데이터만 필터링\n",
        "train_summer_SF = train_summer[train_summer['genre'] == 'SF']\n",
        "\n",
        "# 'screening_rat'에 따른 나이 제한의 빈도 계산\n",
        "screening_counts = train_summer_SF['screening_rat'].value_counts()\n",
        "\n",
        "# 가장 많이 나타나는 상위 3개 나이 제한 선택\n",
        "top_3_screening = screening_counts.head(3)\n",
        "\n",
        "# 결과 출력\n",
        "print(\"여름 시즌 SF 영화에서 가장 많이 나타나는 상위 3개 나이 제한:\")\n",
        "print(top_3_screening)"
      ],
      "metadata": {
        "id": "L8kQ42HJgdug",
        "colab": {
          "base_uri": "https://localhost:8080/"
        },
        "outputId": "1db4f3d4-0d0b-4448-ff8e-2631473ee36a"
      },
      "execution_count": 23,
      "outputs": [
        {
          "output_type": "stream",
          "name": "stdout",
          "text": [
            "여름 시즌 SF 영화에서 가장 많이 나타나는 상위 3개 나이 제한:\n",
            "screening_rat\n",
            "15세 관람가     3\n",
            "12세 관람가     2\n",
            "청소년 관람불가    2\n",
            "Name: count, dtype: int64\n"
          ]
        }
      ]
    },
    {
      "cell_type": "markdown",
      "source": [
        "유의미x"
      ],
      "metadata": {
        "id": "YAt1B4Vsmwle"
      }
    },
    {
      "cell_type": "code",
      "source": [
        "# 제작사별 영화 수를 계산\n",
        "distributor_counts = train_summer_SF['distributor'].value_counts()\n",
        "\n",
        "# 가장 많이 나타나는 상위 3개 제작사 선택\n",
        "top_3_distributors = distributor_counts.head(3)\n",
        "\n",
        "# 결과 출력\n",
        "print(\"여름 시즌 SF 영화에서 가장 많이 나타나는 상위 3개 제작사:\")\n",
        "print(top_3_distributors)"
      ],
      "metadata": {
        "id": "o_HyJ5ojmX-l",
        "colab": {
          "base_uri": "https://localhost:8080/"
        },
        "outputId": "457da432-bf2c-4721-d9f4-1b0600f8a99d"
      },
      "execution_count": 24,
      "outputs": [
        {
          "output_type": "stream",
          "name": "stdout",
          "text": [
            "여름 시즌 SF 영화에서 가장 많이 나타나는 상위 3개 제작사:\n",
            "distributor\n",
            "인디스토리        2\n",
            "CJ 엔터테인먼트    2\n",
            "(주)더픽쳐스      1\n",
            "Name: count, dtype: int64\n"
          ]
        }
      ]
    },
    {
      "cell_type": "markdown",
      "source": [
        "유의미 x"
      ],
      "metadata": {
        "id": "hxAr3KQ4myQw"
      }
    },
    {
      "cell_type": "code",
      "source": [
        "# 관객 수를 기준으로 상위 3개 영화 제목을 선택\n",
        "top_3_movies = train_summer_SF.nlargest(3, 'box_off_num')[['title', 'box_off_num']]\n",
        "\n",
        "# 결과 출력\n",
        "print(\"여름 시즌 SF 영화 중 관객 수가 가장 많았던 상위 3개 영화:\")\n",
        "print(top_3_movies)"
      ],
      "metadata": {
        "colab": {
          "base_uri": "https://localhost:8080/"
        },
        "id": "5GirGPY3mvWo",
        "outputId": "5e095b65-571b-4232-cd46-d42f1a139727"
      },
      "execution_count": 25,
      "outputs": [
        {
          "output_type": "stream",
          "name": "stdout",
          "text": [
            "여름 시즌 SF 영화 중 관객 수가 가장 많았던 상위 3개 영화:\n",
            "            title  box_off_num\n",
            "496          설국열차      9350351\n",
            "505  해적: 바다로 간 산적      8666208\n",
            "166           7광구      2242510\n"
          ]
        }
      ]
    },
    {
      "cell_type": "markdown",
      "source": [
        "### 설국 열차랑 해적이 압도적으로 많은 관객 수"
      ],
      "metadata": {
        "id": "fJy2WvD6m7nk"
      }
    },
    {
      "cell_type": "code",
      "source": [
        "# title이 '설국열차'인 행만 필터링\n",
        "sulguk_movie = train_summer_SF[train_summer_SF['title'] == '설국열차']\n",
        "\n",
        "# 결과 출력\n",
        "print(\"여름 시즌 SF 영화 중 '설국열차' 제목을 가진 영화:\")\n",
        "print(sulguk_movie)"
      ],
      "metadata": {
        "colab": {
          "base_uri": "https://localhost:8080/"
        },
        "id": "yHMj-8Fym6EW",
        "outputId": "b20eb531-bf1a-44e5-f559-58f5d0020b1e"
      },
      "execution_count": 28,
      "outputs": [
        {
          "output_type": "stream",
          "name": "stdout",
          "text": [
            "여름 시즌 SF 영화 중 '설국열차' 제목을 가진 영화:\n",
            "    title distributor genre release_time  time screening_rat director  \\\n",
            "496  설국열차   CJ 엔터테인먼트    SF   2013-08-01   125       15세 관람가      봉준호   \n",
            "\n",
            "     dir_prev_bfnum  dir_prev_num  num_staff  num_actor  box_off_num  season  \\\n",
            "496             0.0             0         67         10      9350351  summer   \n",
            "\n",
            "     month  \n",
            "496      8  \n"
          ]
        }
      ]
    },
    {
      "cell_type": "markdown",
      "source": [
        "스탭 수가 다른 1위 영화들에 비해 많지는 않은 듯\n",
        "CJ 엔터의 스탭 수, 봉준호의 스탭 수를 보자"
      ],
      "metadata": {
        "id": "mMBC8Tdcn1UD"
      }
    },
    {
      "cell_type": "code",
      "source": [
        "# title이 '해적: 바다로 간 산적'인 행만 필터링\n",
        "haejeok_movie = train_summer_SF[train_summer_SF['title'] == '해적: 바다로 간 산적']\n",
        "\n",
        "# 결과 출력\n",
        "print(\"여름 시즌 SF 영화 중 '해적: 바다로 간 산적' 제목을 가진 영화:\")\n",
        "print(haejeok_movie)"
      ],
      "metadata": {
        "colab": {
          "base_uri": "https://localhost:8080/"
        },
        "id": "uLFZ_YiSnd_e",
        "outputId": "468107dd-b0bd-4f22-a771-cb88aed610fe"
      },
      "execution_count": 29,
      "outputs": [
        {
          "output_type": "stream",
          "name": "stdout",
          "text": [
            "여름 시즌 SF 영화 중 '해적: 바다로 간 산적' 제목을 가진 영화:\n",
            "            title distributor genre release_time  time screening_rat director  \\\n",
            "505  해적: 바다로 간 산적    롯데엔터테인먼트    SF   2014-08-06   130       12세 관람가      이석훈   \n",
            "\n",
            "     dir_prev_bfnum  dir_prev_num  num_staff  num_actor  box_off_num  season  \\\n",
            "505    1.843895e+06             3        868          2      8666208  summer   \n",
            "\n",
            "     month  \n",
            "505      8  \n"
          ]
        }
      ]
    },
    {
      "cell_type": "markdown",
      "source": [
        "### 해적도 스탭 수가 많음..."
      ],
      "metadata": {
        "id": "Gv_tPntgnygU"
      }
    },
    {
      "cell_type": "code",
      "source": [
        "# 'CJ 엔터테인먼트' 제작사의 데이터만 필터링\n",
        "cj_pictures1 = train[train['distributor'] == 'CJ 엔터테인먼트']\n",
        "\n",
        "# 스탭 수에 대한 통계량 출력\n",
        "num_staff_stats_cj1 = cj_pictures1['num_staff'].describe()\n",
        "\n",
        "# 결과 출력\n",
        "print(\"CJ 엔터테인먼트 제작사의 스탭 수 통계량:\")\n",
        "print(num_staff_stats_cj1)"
      ],
      "metadata": {
        "colab": {
          "base_uri": "https://localhost:8080/"
        },
        "id": "HtHEdON4n0k6",
        "outputId": "fd2fa36f-2c7e-4bd9-ec20-e2a597cabe3d"
      },
      "execution_count": 31,
      "outputs": [
        {
          "output_type": "stream",
          "name": "stdout",
          "text": [
            "CJ 엔터테인먼트 제작사의 스탭 수 통계량:\n",
            "count     54.000000\n",
            "mean     313.629630\n",
            "std      185.305693\n",
            "min        0.000000\n",
            "25%      158.250000\n",
            "50%      339.000000\n",
            "75%      435.500000\n",
            "max      869.000000\n",
            "Name: num_staff, dtype: float64\n"
          ]
        }
      ]
    },
    {
      "cell_type": "markdown",
      "source": [
        "## **CJ엔터의 스탭 수는 꽤나 많은 편**\n",
        "## **설국열차 스탭 수는 67명인데.. 이걸 보면 흥행 영화라고 꼭 스탭 수가 많은건 아닌듯**"
      ],
      "metadata": {
        "id": "c2N6G3faoQMt"
      }
    },
    {
      "cell_type": "markdown",
      "source": [
        "### 해적을 만든 롯데 엔터는 보통 스탭 수가 어느 정도?"
      ],
      "metadata": {
        "id": "ZqSwv4zgogHk"
      }
    },
    {
      "cell_type": "code",
      "source": [
        "# '롯데엔터테인먼트' 제작사의 데이터만 필터링\n",
        "lotte_pictures = train[train['distributor'] == '롯데엔터테인먼트']\n",
        "\n",
        "# 스탭 수에 대한 통계량 출력\n",
        "num_staff_stats_lotte = lotte_pictures['num_staff'].describe()\n",
        "\n",
        "# 결과 출력\n",
        "print(\"롯데엔터테인먼트 제작사의 스탭 수 통계량:\")\n",
        "print(num_staff_stats_lotte)"
      ],
      "metadata": {
        "colab": {
          "base_uri": "https://localhost:8080/"
        },
        "id": "Cv9ZKe5UodCs",
        "outputId": "7c8d47f2-de83-43b7-945b-3cba7c6ad578"
      },
      "execution_count": 32,
      "outputs": [
        {
          "output_type": "stream",
          "name": "stdout",
          "text": [
            "롯데엔터테인먼트 제작사의 스탭 수 통계량:\n",
            "count     52.000000\n",
            "mean     312.000000\n",
            "std      162.824337\n",
            "min        2.000000\n",
            "25%      236.000000\n",
            "50%      293.000000\n",
            "75%      372.000000\n",
            "max      868.000000\n",
            "Name: num_staff, dtype: float64\n"
          ]
        }
      ]
    },
    {
      "cell_type": "markdown",
      "source": [
        "### 해적 영화에 스탭 868명인데 이게 롯데 영화 엔터의 최대 스탭"
      ],
      "metadata": {
        "id": "2gvqh7SqozYn"
      }
    },
    {
      "cell_type": "markdown",
      "source": [
        "# **가을/드라마**"
      ],
      "metadata": {
        "id": "hda8Exm4pKt9"
      }
    },
    {
      "cell_type": "code",
      "source": [
        "# DataFrame 생성\n",
        "train = pd.DataFrame(train)\n",
        "\n",
        "# release_time을 datetime 형식으로 변환\n",
        "train['release_time'] = pd.to_datetime(train['release_time'])\n",
        "\n",
        "# 가을(9,10월) 데이터만 필터링\n",
        "train_autumn = train[train['release_time'].dt.month.isin([9,10])]\n",
        "\n",
        "# 장르가 'SF'인 데이터만 필터링\n",
        "train_autumn_drama = train_summer[train_summer['genre'] == '드라마']\n",
        "\n",
        "# 'screening_rat'에 따른 나이 제한의 빈도 계산\n",
        "screening_counts = train_autumn_drama['screening_rat'].value_counts()\n",
        "\n",
        "# 가장 많이 나타나는 상위 3개 나이 제한 선택\n",
        "top_3_screening = screening_counts.head(3)\n",
        "\n",
        "# 결과 출력\n",
        "print(\"가을 시즌 드라마 영화에서 가장 많이 나타나는 상위 3개 나이 제한:\")\n",
        "print(top_3_screening)"
      ],
      "metadata": {
        "colab": {
          "base_uri": "https://localhost:8080/"
        },
        "id": "cDctG-PFo45Y",
        "outputId": "a56e8492-92c3-4395-8afe-dff125a0df55"
      },
      "execution_count": 33,
      "outputs": [
        {
          "output_type": "stream",
          "name": "stdout",
          "text": [
            "가을 시즌 드라마 영화에서 가장 많이 나타나는 상위 3개 나이 제한:\n",
            "screening_rat\n",
            "청소년 관람불가    14\n",
            "15세 관람가     11\n",
            "12세 관람가      7\n",
            "Name: count, dtype: int64\n"
          ]
        }
      ]
    },
    {
      "cell_type": "markdown",
      "source": [
        "### 처음으로 청불이 나옴..\n",
        "### 가을/드라마 청불"
      ],
      "metadata": {
        "id": "QMm8HHRXpplM"
      }
    },
    {
      "cell_type": "code",
      "source": [
        "# 제작사별 영화 수를 계산\n",
        "distributor_counts = train_autumn_drama['distributor'].value_counts()\n",
        "\n",
        "# 가장 많이 나타나는 상위 3개 제작사 선택\n",
        "top_3_distributors = distributor_counts.head(3)\n",
        "\n",
        "# 결과 출력\n",
        "print(\"가을 시즌 드라마 영화에서 가장 많이 나타나는 상위 3개 제작사:\")\n",
        "print(top_3_distributors)"
      ],
      "metadata": {
        "colab": {
          "base_uri": "https://localhost:8080/"
        },
        "id": "POAgvIAGpoCy",
        "outputId": "822f3bd0-9bf7-453e-c5ce-ba51c5248a89"
      },
      "execution_count": 34,
      "outputs": [
        {
          "output_type": "stream",
          "name": "stdout",
          "text": [
            "가을 시즌 드라마 영화에서 가장 많이 나타나는 상위 3개 제작사:\n",
            "distributor\n",
            "CJ 엔터테인먼트    4\n",
            "(주)NEW       2\n",
            "시네마서비스       2\n",
            "Name: count, dtype: int64\n"
          ]
        }
      ]
    },
    {
      "cell_type": "code",
      "source": [
        "# 관객 수를 기준으로 상위 3개 영화 제목을 선택\n",
        "top_3_movies = train_autumn_drama.nlargest(3, 'box_off_num')[['title', 'box_off_num']]\n",
        "\n",
        "# 결과 출력\n",
        "print(\"가을 시즌 드라마 영화 중 관객 수가 가장 많았던 상위 3개 영화:\")\n",
        "print(top_3_movies)"
      ],
      "metadata": {
        "colab": {
          "base_uri": "https://localhost:8080/"
        },
        "id": "glHaH9Kup23z",
        "outputId": "203047a4-cece-4d48-ad03-6ddab8e993b1"
      },
      "execution_count": 35,
      "outputs": [
        {
          "output_type": "stream",
          "name": "stdout",
          "text": [
            "가을 시즌 드라마 영화 중 관객 수가 가장 많았던 상위 3개 영화:\n",
            "    title  box_off_num\n",
            "467   연가시      4515833\n",
            "209    이끼      3350311\n",
            "278    감기      3117859\n"
          ]
        }
      ]
    },
    {
      "cell_type": "markdown",
      "source": [
        "## 비슷"
      ],
      "metadata": {
        "id": "DV4PS0JBqCxB"
      }
    },
    {
      "cell_type": "code",
      "source": [
        "# title이 '연가시'인 행만 필터링\n",
        "gasi_movie = train_autumn_drama[train_autumn_drama['title'] == '연가시']\n",
        "\n",
        "# 결과 출력\n",
        "print(\"가을 시즌 드라마 영화 중 '연가시' 제목을 가진 영화:\")\n",
        "print(gasi_movie)"
      ],
      "metadata": {
        "colab": {
          "base_uri": "https://localhost:8080/"
        },
        "id": "R0GxafV5qA-G",
        "outputId": "d26033bc-01af-4c84-df49-e16995e28173"
      },
      "execution_count": 36,
      "outputs": [
        {
          "output_type": "stream",
          "name": "stdout",
          "text": [
            "가을 시즌 드라마 영화 중 '연가시' 제목을 가진 영화:\n",
            "    title distributor genre release_time  time screening_rat director  \\\n",
            "467   연가시   CJ 엔터테인먼트   드라마   2012-07-05   109       15세 관람가      박정우   \n",
            "\n",
            "     dir_prev_bfnum  dir_prev_num  num_staff  num_actor  box_off_num  season  \\\n",
            "467        578474.5             2        128          4      4515833  summer   \n",
            "\n",
            "     month  \n",
            "467      7  \n"
          ]
        }
      ]
    },
    {
      "cell_type": "markdown",
      "source": [
        "### **아까 여름에서 CJ엔터 스탭 수 통계량을 봤는데**\n",
        "### **그걸 기준으로 보면 연가시의 스탭 수 128명은 적은 편임 (Q1)**\n",
        "### **스탭 수는 흥행에 영향을 미친다고 보기 어려운듯**\n",
        "### **마찬가지로 계절이 흥행에 유의미한 영향을 주는 것 같지 않음**"
      ],
      "metadata": {
        "id": "aOHWeekbqheb"
      }
    },
    {
      "cell_type": "code",
      "source": [],
      "metadata": {
        "id": "dB9VANn5qbeb"
      },
      "execution_count": null,
      "outputs": []
    }
  ]
}